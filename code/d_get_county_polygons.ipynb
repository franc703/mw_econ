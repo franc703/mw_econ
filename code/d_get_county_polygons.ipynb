{
 "cells": [
  {
   "cell_type": "code",
   "execution_count": 1,
   "outputs": [],
   "source": [
    "import pandas as pd\n",
    "import geopandas as gpd"
   ],
   "metadata": {
    "collapsed": false,
    "pycharm": {
     "name": "#%%\n"
    }
   }
  },
  {
   "cell_type": "code",
   "execution_count": 2,
   "outputs": [],
   "source": [
    "# read the geopandas data frame\n",
    "gdf = gpd.read_file('../data/raw/cb_2018_us_county_500k')"
   ],
   "metadata": {
    "collapsed": false,
    "pycharm": {
     "name": "#%%\n"
    }
   }
  },
  {
   "cell_type": "code",
   "execution_count": 3,
   "outputs": [
    {
     "data": {
      "text/plain": "  STATEFP COUNTYFP  COUNTYNS        AFFGEOID  GEOID     NAME LSAD       ALAND  \\\n0      21      007  00516850  0500000US21007  21007  Ballard   06   639387454   \n1      21      017  00516855  0500000US21017  21017  Bourbon   06   750439351   \n2      21      031  00516862  0500000US21031  21031   Butler   06  1103571974   \n3      21      065  00516879  0500000US21065  21065   Estill   06   655509930   \n4      21      069  00516881  0500000US21069  21069  Fleming   06   902727151   \n\n     AWATER                                           geometry  \n0  69473325  POLYGON ((-89.18137 37.04630, -89.17938 37.053...  \n1   4829777  POLYGON ((-84.44266 38.28324, -84.44114 38.283...  \n2  13943044  POLYGON ((-86.94486 37.07341, -86.94346 37.074...  \n3   6516335  POLYGON ((-84.12662 37.64540, -84.12483 37.646...  \n4   7182793  POLYGON ((-83.98428 38.44549, -83.98246 38.450...  ",
      "text/html": "<div>\n<style scoped>\n    .dataframe tbody tr th:only-of-type {\n        vertical-align: middle;\n    }\n\n    .dataframe tbody tr th {\n        vertical-align: top;\n    }\n\n    .dataframe thead th {\n        text-align: right;\n    }\n</style>\n<table border=\"1\" class=\"dataframe\">\n  <thead>\n    <tr style=\"text-align: right;\">\n      <th></th>\n      <th>STATEFP</th>\n      <th>COUNTYFP</th>\n      <th>COUNTYNS</th>\n      <th>AFFGEOID</th>\n      <th>GEOID</th>\n      <th>NAME</th>\n      <th>LSAD</th>\n      <th>ALAND</th>\n      <th>AWATER</th>\n      <th>geometry</th>\n    </tr>\n  </thead>\n  <tbody>\n    <tr>\n      <th>0</th>\n      <td>21</td>\n      <td>007</td>\n      <td>00516850</td>\n      <td>0500000US21007</td>\n      <td>21007</td>\n      <td>Ballard</td>\n      <td>06</td>\n      <td>639387454</td>\n      <td>69473325</td>\n      <td>POLYGON ((-89.18137 37.04630, -89.17938 37.053...</td>\n    </tr>\n    <tr>\n      <th>1</th>\n      <td>21</td>\n      <td>017</td>\n      <td>00516855</td>\n      <td>0500000US21017</td>\n      <td>21017</td>\n      <td>Bourbon</td>\n      <td>06</td>\n      <td>750439351</td>\n      <td>4829777</td>\n      <td>POLYGON ((-84.44266 38.28324, -84.44114 38.283...</td>\n    </tr>\n    <tr>\n      <th>2</th>\n      <td>21</td>\n      <td>031</td>\n      <td>00516862</td>\n      <td>0500000US21031</td>\n      <td>21031</td>\n      <td>Butler</td>\n      <td>06</td>\n      <td>1103571974</td>\n      <td>13943044</td>\n      <td>POLYGON ((-86.94486 37.07341, -86.94346 37.074...</td>\n    </tr>\n    <tr>\n      <th>3</th>\n      <td>21</td>\n      <td>065</td>\n      <td>00516879</td>\n      <td>0500000US21065</td>\n      <td>21065</td>\n      <td>Estill</td>\n      <td>06</td>\n      <td>655509930</td>\n      <td>6516335</td>\n      <td>POLYGON ((-84.12662 37.64540, -84.12483 37.646...</td>\n    </tr>\n    <tr>\n      <th>4</th>\n      <td>21</td>\n      <td>069</td>\n      <td>00516881</td>\n      <td>0500000US21069</td>\n      <td>21069</td>\n      <td>Fleming</td>\n      <td>06</td>\n      <td>902727151</td>\n      <td>7182793</td>\n      <td>POLYGON ((-83.98428 38.44549, -83.98246 38.450...</td>\n    </tr>\n  </tbody>\n</table>\n</div>"
     },
     "execution_count": 3,
     "metadata": {},
     "output_type": "execute_result"
    }
   ],
   "source": [
    "gdf.head()"
   ],
   "metadata": {
    "collapsed": false,
    "pycharm": {
     "name": "#%%\n"
    }
   }
  },
  {
   "cell_type": "code",
   "execution_count": 4,
   "outputs": [],
   "source": [
    "gdf = gdf.to_crs(epsg=5070)\n",
    "gdf['centroid'] = gdf.centroid"
   ],
   "metadata": {
    "collapsed": false,
    "pycharm": {
     "name": "#%%\n"
    }
   }
  },
  {
   "cell_type": "code",
   "execution_count": 5,
   "outputs": [
    {
     "data": {
      "text/plain": "  STATEFP COUNTYFP  COUNTYNS        AFFGEOID  GEOID     NAME LSAD       ALAND  \\\n0      21      007  00516850  0500000US21007  21007  Ballard   06   639387454   \n1      21      017  00516855  0500000US21017  21017  Bourbon   06   750439351   \n2      21      031  00516862  0500000US21031  21031   Butler   06  1103571974   \n3      21      065  00516879  0500000US21065  21065   Estill   06   655509930   \n4      21      069  00516881  0500000US21069  21069  Fleming   06   902727151   \n\n     AWATER                                           geometry  \\\n0  69473325  POLYGON ((600246.776 1577487.744, 600367.325 1...   \n1   4829777  POLYGON ((998945.055 1755388.822, 999069.425 1...   \n2  13943044  POLYGON ((796316.473 1596948.317, 796423.808 1...   \n3   6516335  POLYGON ((1035030.065 1687824.231, 1035174.629...   \n4   7182793  POLYGON ((1036063.852 1778343.787, 1036156.023...   \n\n                          centroid  \n0   POINT (616150.239 1580009.179)  \n1  POINT (1019399.205 1749271.850)  \n2   POINT (817913.675 1614111.473)  \n3  POINT (1048438.491 1694830.543)  \n4  POINT (1061825.361 1773137.784)  ",
      "text/html": "<div>\n<style scoped>\n    .dataframe tbody tr th:only-of-type {\n        vertical-align: middle;\n    }\n\n    .dataframe tbody tr th {\n        vertical-align: top;\n    }\n\n    .dataframe thead th {\n        text-align: right;\n    }\n</style>\n<table border=\"1\" class=\"dataframe\">\n  <thead>\n    <tr style=\"text-align: right;\">\n      <th></th>\n      <th>STATEFP</th>\n      <th>COUNTYFP</th>\n      <th>COUNTYNS</th>\n      <th>AFFGEOID</th>\n      <th>GEOID</th>\n      <th>NAME</th>\n      <th>LSAD</th>\n      <th>ALAND</th>\n      <th>AWATER</th>\n      <th>geometry</th>\n      <th>centroid</th>\n    </tr>\n  </thead>\n  <tbody>\n    <tr>\n      <th>0</th>\n      <td>21</td>\n      <td>007</td>\n      <td>00516850</td>\n      <td>0500000US21007</td>\n      <td>21007</td>\n      <td>Ballard</td>\n      <td>06</td>\n      <td>639387454</td>\n      <td>69473325</td>\n      <td>POLYGON ((600246.776 1577487.744, 600367.325 1...</td>\n      <td>POINT (616150.239 1580009.179)</td>\n    </tr>\n    <tr>\n      <th>1</th>\n      <td>21</td>\n      <td>017</td>\n      <td>00516855</td>\n      <td>0500000US21017</td>\n      <td>21017</td>\n      <td>Bourbon</td>\n      <td>06</td>\n      <td>750439351</td>\n      <td>4829777</td>\n      <td>POLYGON ((998945.055 1755388.822, 999069.425 1...</td>\n      <td>POINT (1019399.205 1749271.850)</td>\n    </tr>\n    <tr>\n      <th>2</th>\n      <td>21</td>\n      <td>031</td>\n      <td>00516862</td>\n      <td>0500000US21031</td>\n      <td>21031</td>\n      <td>Butler</td>\n      <td>06</td>\n      <td>1103571974</td>\n      <td>13943044</td>\n      <td>POLYGON ((796316.473 1596948.317, 796423.808 1...</td>\n      <td>POINT (817913.675 1614111.473)</td>\n    </tr>\n    <tr>\n      <th>3</th>\n      <td>21</td>\n      <td>065</td>\n      <td>00516879</td>\n      <td>0500000US21065</td>\n      <td>21065</td>\n      <td>Estill</td>\n      <td>06</td>\n      <td>655509930</td>\n      <td>6516335</td>\n      <td>POLYGON ((1035030.065 1687824.231, 1035174.629...</td>\n      <td>POINT (1048438.491 1694830.543)</td>\n    </tr>\n    <tr>\n      <th>4</th>\n      <td>21</td>\n      <td>069</td>\n      <td>00516881</td>\n      <td>0500000US21069</td>\n      <td>21069</td>\n      <td>Fleming</td>\n      <td>06</td>\n      <td>902727151</td>\n      <td>7182793</td>\n      <td>POLYGON ((1036063.852 1778343.787, 1036156.023...</td>\n      <td>POINT (1061825.361 1773137.784)</td>\n    </tr>\n  </tbody>\n</table>\n</div>"
     },
     "execution_count": 5,
     "metadata": {},
     "output_type": "execute_result"
    }
   ],
   "source": [
    "gdf.head()"
   ],
   "metadata": {
    "collapsed": false,
    "pycharm": {
     "name": "#%%\n"
    }
   }
  },
  {
   "cell_type": "code",
   "execution_count": 6,
   "outputs": [],
   "source": [
    "# columns I want\n",
    "columns = ['STATEFP', 'COUNTYFP', 'GEOID', 'NAME', 'geometry', 'centroid']\n",
    "gdf = gdf[columns]"
   ],
   "metadata": {
    "collapsed": false,
    "pycharm": {
     "name": "#%%\n"
    }
   }
  },
  {
   "cell_type": "code",
   "execution_count": 7,
   "outputs": [],
   "source": [
    "# change names to columns\n",
    "column_names = ['state_fips', 'county_fips', 'geoid', 'name', 'geometry', 'centroid']\n",
    "gdf.columns = column_names"
   ],
   "metadata": {
    "collapsed": false,
    "pycharm": {
     "name": "#%%\n"
    }
   }
  },
  {
   "cell_type": "code",
   "execution_count": 8,
   "outputs": [
    {
     "data": {
      "text/plain": "  state_fips county_fips  geoid     name  \\\n0         21         007  21007  Ballard   \n1         21         017  21017  Bourbon   \n2         21         031  21031   Butler   \n3         21         065  21065   Estill   \n4         21         069  21069  Fleming   \n\n                                            geometry  \\\n0  POLYGON ((600246.776 1577487.744, 600367.325 1...   \n1  POLYGON ((998945.055 1755388.822, 999069.425 1...   \n2  POLYGON ((796316.473 1596948.317, 796423.808 1...   \n3  POLYGON ((1035030.065 1687824.231, 1035174.629...   \n4  POLYGON ((1036063.852 1778343.787, 1036156.023...   \n\n                          centroid  \n0   POINT (616150.239 1580009.179)  \n1  POINT (1019399.205 1749271.850)  \n2   POINT (817913.675 1614111.473)  \n3  POINT (1048438.491 1694830.543)  \n4  POINT (1061825.361 1773137.784)  ",
      "text/html": "<div>\n<style scoped>\n    .dataframe tbody tr th:only-of-type {\n        vertical-align: middle;\n    }\n\n    .dataframe tbody tr th {\n        vertical-align: top;\n    }\n\n    .dataframe thead th {\n        text-align: right;\n    }\n</style>\n<table border=\"1\" class=\"dataframe\">\n  <thead>\n    <tr style=\"text-align: right;\">\n      <th></th>\n      <th>state_fips</th>\n      <th>county_fips</th>\n      <th>geoid</th>\n      <th>name</th>\n      <th>geometry</th>\n      <th>centroid</th>\n    </tr>\n  </thead>\n  <tbody>\n    <tr>\n      <th>0</th>\n      <td>21</td>\n      <td>007</td>\n      <td>21007</td>\n      <td>Ballard</td>\n      <td>POLYGON ((600246.776 1577487.744, 600367.325 1...</td>\n      <td>POINT (616150.239 1580009.179)</td>\n    </tr>\n    <tr>\n      <th>1</th>\n      <td>21</td>\n      <td>017</td>\n      <td>21017</td>\n      <td>Bourbon</td>\n      <td>POLYGON ((998945.055 1755388.822, 999069.425 1...</td>\n      <td>POINT (1019399.205 1749271.850)</td>\n    </tr>\n    <tr>\n      <th>2</th>\n      <td>21</td>\n      <td>031</td>\n      <td>21031</td>\n      <td>Butler</td>\n      <td>POLYGON ((796316.473 1596948.317, 796423.808 1...</td>\n      <td>POINT (817913.675 1614111.473)</td>\n    </tr>\n    <tr>\n      <th>3</th>\n      <td>21</td>\n      <td>065</td>\n      <td>21065</td>\n      <td>Estill</td>\n      <td>POLYGON ((1035030.065 1687824.231, 1035174.629...</td>\n      <td>POINT (1048438.491 1694830.543)</td>\n    </tr>\n    <tr>\n      <th>4</th>\n      <td>21</td>\n      <td>069</td>\n      <td>21069</td>\n      <td>Fleming</td>\n      <td>POLYGON ((1036063.852 1778343.787, 1036156.023...</td>\n      <td>POINT (1061825.361 1773137.784)</td>\n    </tr>\n  </tbody>\n</table>\n</div>"
     },
     "execution_count": 8,
     "metadata": {},
     "output_type": "execute_result"
    }
   ],
   "source": [
    "gdf.head()"
   ],
   "metadata": {
    "collapsed": false,
    "pycharm": {
     "name": "#%%\n"
    }
   }
  },
  {
   "cell_type": "code",
   "execution_count": 9,
   "outputs": [],
   "source": [
    "# check the number of counties for alaska. I should drop this along with hawaii: 02 and 15\n",
    "gdf = gdf[-gdf['state_fips'].isin(['02', '15', '60', '66', '66', '69', '72', '78'])]"
   ],
   "metadata": {
    "collapsed": false,
    "pycharm": {
     "name": "#%%\n"
    }
   }
  },
  {
   "cell_type": "code",
   "execution_count": 10,
   "outputs": [],
   "source": [
    "# create a dataframe that is the cross product of counties\n",
    "st1 = pd.DataFrame(gdf[['geoid', 'state_fips', 'centroid']])\n",
    "st2 = pd.DataFrame(gdf[['geoid', 'state_fips', 'centroid']])\n",
    "cross_states = st1.merge(st2, how = 'cross')\n",
    "cross_states.columns = ['county1', 'state1', 'centroid1', 'county2', 'state2', 'centroid2']\n",
    "cross_states = cross_states.loc[cross_states['state1'] != cross_states['state2'],]"
   ],
   "metadata": {
    "collapsed": false,
    "pycharm": {
     "name": "#%%\n"
    }
   }
  },
  {
   "cell_type": "code",
   "execution_count": 11,
   "outputs": [
    {
     "name": "stdout",
     "output_type": "stream",
     "text": [
      "<class 'pandas.core.frame.DataFrame'>\n",
      "Int64Index: 9357622 entries, 11 to 9659662\n",
      "Data columns (total 6 columns):\n",
      " #   Column     Non-Null Count    Dtype   \n",
      "---  ------     --------------    -----   \n",
      " 0   county1    9357622 non-null  object  \n",
      " 1   state1     9357622 non-null  object  \n",
      " 2   centroid1  9357622 non-null  geometry\n",
      " 3   county2    9357622 non-null  object  \n",
      " 4   state2     9357622 non-null  object  \n",
      " 5   centroid2  9357622 non-null  geometry\n",
      "dtypes: geometry(2), object(4)\n",
      "memory usage: 499.8+ MB\n"
     ]
    }
   ],
   "source": [
    "cross_states.info(show_counts = True)"
   ],
   "metadata": {
    "collapsed": false,
    "pycharm": {
     "name": "#%%\n"
    }
   }
  },
  {
   "cell_type": "code",
   "execution_count": 12,
   "outputs": [
    {
     "data": {
      "text/plain": "   county1 state1                       centroid1 county2 state2  \\\n11   21007     21  POINT (616150.239 1580009.179)   17091     17   \n12   21007     21  POINT (616150.239 1580009.179)   17187     17   \n13   21007     21  POINT (616150.239 1580009.179)   17197     17   \n14   21007     21  POINT (616150.239 1580009.179)   18027     18   \n15   21007     21  POINT (616150.239 1580009.179)   18061     18   \n\n                         centroid2  \n11  POINT (676922.975 2043418.015)  \n12  POINT (450064.450 1994793.779)  \n13  POINT (664354.473 2076858.957)  \n14  POINT (768037.059 1777644.290)  \n15  POINT (856316.386 1729277.725)  ",
      "text/html": "<div>\n<style scoped>\n    .dataframe tbody tr th:only-of-type {\n        vertical-align: middle;\n    }\n\n    .dataframe tbody tr th {\n        vertical-align: top;\n    }\n\n    .dataframe thead th {\n        text-align: right;\n    }\n</style>\n<table border=\"1\" class=\"dataframe\">\n  <thead>\n    <tr style=\"text-align: right;\">\n      <th></th>\n      <th>county1</th>\n      <th>state1</th>\n      <th>centroid1</th>\n      <th>county2</th>\n      <th>state2</th>\n      <th>centroid2</th>\n    </tr>\n  </thead>\n  <tbody>\n    <tr>\n      <th>11</th>\n      <td>21007</td>\n      <td>21</td>\n      <td>POINT (616150.239 1580009.179)</td>\n      <td>17091</td>\n      <td>17</td>\n      <td>POINT (676922.975 2043418.015)</td>\n    </tr>\n    <tr>\n      <th>12</th>\n      <td>21007</td>\n      <td>21</td>\n      <td>POINT (616150.239 1580009.179)</td>\n      <td>17187</td>\n      <td>17</td>\n      <td>POINT (450064.450 1994793.779)</td>\n    </tr>\n    <tr>\n      <th>13</th>\n      <td>21007</td>\n      <td>21</td>\n      <td>POINT (616150.239 1580009.179)</td>\n      <td>17197</td>\n      <td>17</td>\n      <td>POINT (664354.473 2076858.957)</td>\n    </tr>\n    <tr>\n      <th>14</th>\n      <td>21007</td>\n      <td>21</td>\n      <td>POINT (616150.239 1580009.179)</td>\n      <td>18027</td>\n      <td>18</td>\n      <td>POINT (768037.059 1777644.290)</td>\n    </tr>\n    <tr>\n      <th>15</th>\n      <td>21007</td>\n      <td>21</td>\n      <td>POINT (616150.239 1580009.179)</td>\n      <td>18061</td>\n      <td>18</td>\n      <td>POINT (856316.386 1729277.725)</td>\n    </tr>\n  </tbody>\n</table>\n</div>"
     },
     "execution_count": 12,
     "metadata": {},
     "output_type": "execute_result"
    }
   ],
   "source": [
    "cross_states.head()"
   ],
   "metadata": {
    "collapsed": false,
    "pycharm": {
     "name": "#%%\n"
    }
   }
  },
  {
   "cell_type": "code",
   "execution_count": 13,
   "outputs": [],
   "source": [
    "# calculate the distance between the two centroids\n",
    "cross_one = gpd.GeoDataFrame(cross_states[['county1', 'county2', 'centroid1']], geometry='centroid1')\n",
    "cross_two = gpd.GeoDataFrame(cross_states[['county1', 'county2', 'centroid2']], geometry='centroid2')\n",
    "cross_states['distance'] = cross_one.distance(cross_two, align = False)"
   ],
   "metadata": {
    "collapsed": false,
    "pycharm": {
     "name": "#%%\n"
    }
   }
  },
  {
   "cell_type": "code",
   "execution_count": 14,
   "outputs": [
    {
     "data": {
      "text/plain": "        county1 state1                       centroid1 county2 state2  \\\n11        21007     21  POINT (616150.239 1580009.179)   17091     17   \n12        21007     21  POINT (616150.239 1580009.179)   17187     17   \n13        21007     21  POINT (616150.239 1580009.179)   17197     17   \n14        21007     21  POINT (616150.239 1580009.179)   18027     18   \n15        21007     21  POINT (616150.239 1580009.179)   18061     18   \n...         ...    ...                             ...     ...    ...   \n9659658   26139     26  POINT (810188.293 2260883.501)   45033     45   \n9659659   26139     26  POINT (810188.293 2260883.501)   31073     31   \n9659660   26139     26  POINT (810188.293 2260883.501)   39075     39   \n9659661   26139     26  POINT (810188.293 2260883.501)   48171     48   \n9659662   26139     26  POINT (810188.293 2260883.501)   55079     55   \n\n                               centroid2      distance  \n11        POINT (676922.975 2043418.015)  4.673768e+05  \n12        POINT (450064.450 1994793.779)  4.468006e+05  \n13        POINT (664354.473 2076858.957)  4.991827e+05  \n14        POINT (768037.059 1777644.290)  2.492574e+05  \n15        POINT (856316.386 1729277.725)  2.827735e+05  \n...                                  ...           ...  \n9659658  POINT (1508681.978 1391009.110)  1.115605e+06  \n9659659  POINT (-321757.388 1951127.017)  1.173563e+06  \n9659660  POINT (1177076.636 2037152.284)  4.297240e+05  \n9659661   POINT (-282857.149 809077.443)  1.817275e+06  \n9659662   POINT (650574.155 2251001.858)  1.599197e+05  \n\n[9357622 rows x 7 columns]",
      "text/html": "<div>\n<style scoped>\n    .dataframe tbody tr th:only-of-type {\n        vertical-align: middle;\n    }\n\n    .dataframe tbody tr th {\n        vertical-align: top;\n    }\n\n    .dataframe thead th {\n        text-align: right;\n    }\n</style>\n<table border=\"1\" class=\"dataframe\">\n  <thead>\n    <tr style=\"text-align: right;\">\n      <th></th>\n      <th>county1</th>\n      <th>state1</th>\n      <th>centroid1</th>\n      <th>county2</th>\n      <th>state2</th>\n      <th>centroid2</th>\n      <th>distance</th>\n    </tr>\n  </thead>\n  <tbody>\n    <tr>\n      <th>11</th>\n      <td>21007</td>\n      <td>21</td>\n      <td>POINT (616150.239 1580009.179)</td>\n      <td>17091</td>\n      <td>17</td>\n      <td>POINT (676922.975 2043418.015)</td>\n      <td>4.673768e+05</td>\n    </tr>\n    <tr>\n      <th>12</th>\n      <td>21007</td>\n      <td>21</td>\n      <td>POINT (616150.239 1580009.179)</td>\n      <td>17187</td>\n      <td>17</td>\n      <td>POINT (450064.450 1994793.779)</td>\n      <td>4.468006e+05</td>\n    </tr>\n    <tr>\n      <th>13</th>\n      <td>21007</td>\n      <td>21</td>\n      <td>POINT (616150.239 1580009.179)</td>\n      <td>17197</td>\n      <td>17</td>\n      <td>POINT (664354.473 2076858.957)</td>\n      <td>4.991827e+05</td>\n    </tr>\n    <tr>\n      <th>14</th>\n      <td>21007</td>\n      <td>21</td>\n      <td>POINT (616150.239 1580009.179)</td>\n      <td>18027</td>\n      <td>18</td>\n      <td>POINT (768037.059 1777644.290)</td>\n      <td>2.492574e+05</td>\n    </tr>\n    <tr>\n      <th>15</th>\n      <td>21007</td>\n      <td>21</td>\n      <td>POINT (616150.239 1580009.179)</td>\n      <td>18061</td>\n      <td>18</td>\n      <td>POINT (856316.386 1729277.725)</td>\n      <td>2.827735e+05</td>\n    </tr>\n    <tr>\n      <th>...</th>\n      <td>...</td>\n      <td>...</td>\n      <td>...</td>\n      <td>...</td>\n      <td>...</td>\n      <td>...</td>\n      <td>...</td>\n    </tr>\n    <tr>\n      <th>9659658</th>\n      <td>26139</td>\n      <td>26</td>\n      <td>POINT (810188.293 2260883.501)</td>\n      <td>45033</td>\n      <td>45</td>\n      <td>POINT (1508681.978 1391009.110)</td>\n      <td>1.115605e+06</td>\n    </tr>\n    <tr>\n      <th>9659659</th>\n      <td>26139</td>\n      <td>26</td>\n      <td>POINT (810188.293 2260883.501)</td>\n      <td>31073</td>\n      <td>31</td>\n      <td>POINT (-321757.388 1951127.017)</td>\n      <td>1.173563e+06</td>\n    </tr>\n    <tr>\n      <th>9659660</th>\n      <td>26139</td>\n      <td>26</td>\n      <td>POINT (810188.293 2260883.501)</td>\n      <td>39075</td>\n      <td>39</td>\n      <td>POINT (1177076.636 2037152.284)</td>\n      <td>4.297240e+05</td>\n    </tr>\n    <tr>\n      <th>9659661</th>\n      <td>26139</td>\n      <td>26</td>\n      <td>POINT (810188.293 2260883.501)</td>\n      <td>48171</td>\n      <td>48</td>\n      <td>POINT (-282857.149 809077.443)</td>\n      <td>1.817275e+06</td>\n    </tr>\n    <tr>\n      <th>9659662</th>\n      <td>26139</td>\n      <td>26</td>\n      <td>POINT (810188.293 2260883.501)</td>\n      <td>55079</td>\n      <td>55</td>\n      <td>POINT (650574.155 2251001.858)</td>\n      <td>1.599197e+05</td>\n    </tr>\n  </tbody>\n</table>\n<p>9357622 rows × 7 columns</p>\n</div>"
     },
     "execution_count": 14,
     "metadata": {},
     "output_type": "execute_result"
    }
   ],
   "source": [
    "cross_states"
   ],
   "metadata": {
    "collapsed": false,
    "pycharm": {
     "name": "#%%\n"
    }
   }
  },
  {
   "cell_type": "code",
   "execution_count": 15,
   "outputs": [
    {
     "name": "stdout",
     "output_type": "stream",
     "text": [
      "['21' '17' '18' '01' '05' '06' '08' '09' '11' '12' '13' '16' '19' '20'\n",
      " '48' '29' '30' '31' '53' '22' '23' '24' '34' '35' '36' '37' '38' '39'\n",
      " '40' '49' '41' '42' '45' '46' '47' '25' '26' '51' '27' '28' '32' '33'\n",
      " '04' '54' '55' '56' '50' '10' '44']\n"
     ]
    }
   ],
   "source": [
    "print(cross_states['state1'].unique())"
   ],
   "metadata": {
    "collapsed": false,
    "pycharm": {
     "name": "#%%\n"
    }
   }
  },
  {
   "cell_type": "code",
   "execution_count": 16,
   "outputs": [
    {
     "data": {
      "text/plain": "        county1 state1                        centroid1 county2 state2  \\\n50544     01001     01   POINT (872696.731 1094407.437)   04001     04   \n51228     01001     01   POINT (872696.731 1094407.437)   04003     04   \n50195     01001     01   POINT (872696.731 1094407.437)   04005     04   \n50433     01001     01   POINT (872696.731 1094407.437)   04007     04   \n50196     01001     01   POINT (872696.731 1094407.437)   04009     04   \n...         ...    ...                              ...     ...    ...   \n4633361   56045     56  POINT (-685368.123 2347405.831)   55133     55   \n4633187   56045     56  POINT (-685368.123 2347405.831)   55135     55   \n4633608   56045     56  POINT (-685368.123 2347405.831)   55137     55   \n4633788   56045     56  POINT (-685368.123 2347405.831)   55139     55   \n4633322   56045     56  POINT (-685368.123 2347405.831)   55141     55   \n\n                                centroid2      distance  \n50544    POINT (-1210747.610 1455917.555)  2.114576e+06  \n51228    POINT (-1290624.675 1071883.174)  2.163439e+06  \n50195    POINT (-1405355.862 1537180.303)  2.320683e+06  \n50433    POINT (-1355983.747 1298428.105)  2.237999e+06  \n50196    POINT (-1286203.031 1189862.357)  2.161009e+06  \n...                                   ...           ...  \n4633361    POINT (623180.623 2249972.178)  1.312171e+06  \n4633187    POINT (557824.874 2407395.704)  1.244640e+06  \n4633608    POINT (538645.224 2366098.422)  1.224156e+06  \n4633788    POINT (586626.277 2364702.872)  1.272112e+06  \n4633322    POINT (472687.040 2399878.110)  1.159243e+06  \n\n[9357622 rows x 7 columns]",
      "text/html": "<div>\n<style scoped>\n    .dataframe tbody tr th:only-of-type {\n        vertical-align: middle;\n    }\n\n    .dataframe tbody tr th {\n        vertical-align: top;\n    }\n\n    .dataframe thead th {\n        text-align: right;\n    }\n</style>\n<table border=\"1\" class=\"dataframe\">\n  <thead>\n    <tr style=\"text-align: right;\">\n      <th></th>\n      <th>county1</th>\n      <th>state1</th>\n      <th>centroid1</th>\n      <th>county2</th>\n      <th>state2</th>\n      <th>centroid2</th>\n      <th>distance</th>\n    </tr>\n  </thead>\n  <tbody>\n    <tr>\n      <th>50544</th>\n      <td>01001</td>\n      <td>01</td>\n      <td>POINT (872696.731 1094407.437)</td>\n      <td>04001</td>\n      <td>04</td>\n      <td>POINT (-1210747.610 1455917.555)</td>\n      <td>2.114576e+06</td>\n    </tr>\n    <tr>\n      <th>51228</th>\n      <td>01001</td>\n      <td>01</td>\n      <td>POINT (872696.731 1094407.437)</td>\n      <td>04003</td>\n      <td>04</td>\n      <td>POINT (-1290624.675 1071883.174)</td>\n      <td>2.163439e+06</td>\n    </tr>\n    <tr>\n      <th>50195</th>\n      <td>01001</td>\n      <td>01</td>\n      <td>POINT (872696.731 1094407.437)</td>\n      <td>04005</td>\n      <td>04</td>\n      <td>POINT (-1405355.862 1537180.303)</td>\n      <td>2.320683e+06</td>\n    </tr>\n    <tr>\n      <th>50433</th>\n      <td>01001</td>\n      <td>01</td>\n      <td>POINT (872696.731 1094407.437)</td>\n      <td>04007</td>\n      <td>04</td>\n      <td>POINT (-1355983.747 1298428.105)</td>\n      <td>2.237999e+06</td>\n    </tr>\n    <tr>\n      <th>50196</th>\n      <td>01001</td>\n      <td>01</td>\n      <td>POINT (872696.731 1094407.437)</td>\n      <td>04009</td>\n      <td>04</td>\n      <td>POINT (-1286203.031 1189862.357)</td>\n      <td>2.161009e+06</td>\n    </tr>\n    <tr>\n      <th>...</th>\n      <td>...</td>\n      <td>...</td>\n      <td>...</td>\n      <td>...</td>\n      <td>...</td>\n      <td>...</td>\n      <td>...</td>\n    </tr>\n    <tr>\n      <th>4633361</th>\n      <td>56045</td>\n      <td>56</td>\n      <td>POINT (-685368.123 2347405.831)</td>\n      <td>55133</td>\n      <td>55</td>\n      <td>POINT (623180.623 2249972.178)</td>\n      <td>1.312171e+06</td>\n    </tr>\n    <tr>\n      <th>4633187</th>\n      <td>56045</td>\n      <td>56</td>\n      <td>POINT (-685368.123 2347405.831)</td>\n      <td>55135</td>\n      <td>55</td>\n      <td>POINT (557824.874 2407395.704)</td>\n      <td>1.244640e+06</td>\n    </tr>\n    <tr>\n      <th>4633608</th>\n      <td>56045</td>\n      <td>56</td>\n      <td>POINT (-685368.123 2347405.831)</td>\n      <td>55137</td>\n      <td>55</td>\n      <td>POINT (538645.224 2366098.422)</td>\n      <td>1.224156e+06</td>\n    </tr>\n    <tr>\n      <th>4633788</th>\n      <td>56045</td>\n      <td>56</td>\n      <td>POINT (-685368.123 2347405.831)</td>\n      <td>55139</td>\n      <td>55</td>\n      <td>POINT (586626.277 2364702.872)</td>\n      <td>1.272112e+06</td>\n    </tr>\n    <tr>\n      <th>4633322</th>\n      <td>56045</td>\n      <td>56</td>\n      <td>POINT (-685368.123 2347405.831)</td>\n      <td>55141</td>\n      <td>55</td>\n      <td>POINT (472687.040 2399878.110)</td>\n      <td>1.159243e+06</td>\n    </tr>\n  </tbody>\n</table>\n<p>9357622 rows × 7 columns</p>\n</div>"
     },
     "execution_count": 16,
     "metadata": {},
     "output_type": "execute_result"
    }
   ],
   "source": [
    "cross_states = cross_states.sort_values(['county1', 'county2'])\n",
    "cross_states"
   ],
   "metadata": {
    "collapsed": false,
    "pycharm": {
     "name": "#%%\n"
    }
   }
  },
  {
   "cell_type": "code",
   "execution_count": 17,
   "outputs": [
    {
     "name": "stdout",
     "output_type": "stream",
     "text": [
      "['04001' '04003' '04005' ... '01129' '01131' '01133']\n"
     ]
    }
   ],
   "source": [
    "print(cross_states['county2'].unique())"
   ],
   "metadata": {
    "collapsed": false,
    "pycharm": {
     "name": "#%%\n"
    }
   }
  },
  {
   "cell_type": "code",
   "execution_count": 17,
   "outputs": [],
   "source": [],
   "metadata": {
    "collapsed": false,
    "pycharm": {
     "name": "#%%\n"
    }
   }
  }
 ],
 "metadata": {
  "kernelspec": {
   "name": "python3",
   "language": "python",
   "display_name": "Python 3"
  },
  "language_info": {
   "codemirror_mode": {
    "name": "ipython",
    "version": 2
   },
   "file_extension": ".py",
   "mimetype": "text/x-python",
   "name": "python",
   "nbconvert_exporter": "python",
   "pygments_lexer": "ipython2",
   "version": "2.7.6"
  }
 },
 "nbformat": 4,
 "nbformat_minor": 0
}