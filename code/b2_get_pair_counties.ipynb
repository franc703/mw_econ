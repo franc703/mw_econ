{
 "cells": [
  {
   "cell_type": "code",
   "execution_count": 13,
   "id": "4b34352c",
   "metadata": {
    "pycharm": {
     "name": "#%%\n"
    }
   },
   "outputs": [],
   "source": [
    "import pandas as pd"
   ]
  },
  {
   "cell_type": "code",
   "execution_count": 14,
   "id": "822625af",
   "metadata": {
    "pycharm": {
     "name": "#%%\n"
    }
   },
   "outputs": [],
   "source": [
    "# read the data: the asc file \"../data/raw/cntydist.asc\"\n",
    "data = pd.read_csv('../data/raw/cntydist.csv')"
   ]
  },
  {
   "cell_type": "code",
   "execution_count": 15,
   "id": "d0767877",
   "metadata": {
    "pycharm": {
     "name": "#%%\n"
    }
   },
   "outputs": [
    {
     "data": {
      "text/plain": "   BORDINDX  ST1ST2  ST1  ST2  ST  COUNTY  MINDIST  MILEMARK\n0         1  AL-FL     1   12   1       1    103.4      89.8\n1         1  AL-FL     1   12   1       3     16.6     167.4\n2         1  AL-FL     1   12   1       5     58.1      18.4\n3         1  AL-FL     1   12   1       7    138.7     125.8\n4         1  AL-FL     1   12   1       9    206.6      91.2",
      "text/html": "<div>\n<style scoped>\n    .dataframe tbody tr th:only-of-type {\n        vertical-align: middle;\n    }\n\n    .dataframe tbody tr th {\n        vertical-align: top;\n    }\n\n    .dataframe thead th {\n        text-align: right;\n    }\n</style>\n<table border=\"1\" class=\"dataframe\">\n  <thead>\n    <tr style=\"text-align: right;\">\n      <th></th>\n      <th>BORDINDX</th>\n      <th>ST1ST2</th>\n      <th>ST1</th>\n      <th>ST2</th>\n      <th>ST</th>\n      <th>COUNTY</th>\n      <th>MINDIST</th>\n      <th>MILEMARK</th>\n    </tr>\n  </thead>\n  <tbody>\n    <tr>\n      <th>0</th>\n      <td>1</td>\n      <td>AL-FL</td>\n      <td>1</td>\n      <td>12</td>\n      <td>1</td>\n      <td>1</td>\n      <td>103.4</td>\n      <td>89.8</td>\n    </tr>\n    <tr>\n      <th>1</th>\n      <td>1</td>\n      <td>AL-FL</td>\n      <td>1</td>\n      <td>12</td>\n      <td>1</td>\n      <td>3</td>\n      <td>16.6</td>\n      <td>167.4</td>\n    </tr>\n    <tr>\n      <th>2</th>\n      <td>1</td>\n      <td>AL-FL</td>\n      <td>1</td>\n      <td>12</td>\n      <td>1</td>\n      <td>5</td>\n      <td>58.1</td>\n      <td>18.4</td>\n    </tr>\n    <tr>\n      <th>3</th>\n      <td>1</td>\n      <td>AL-FL</td>\n      <td>1</td>\n      <td>12</td>\n      <td>1</td>\n      <td>7</td>\n      <td>138.7</td>\n      <td>125.8</td>\n    </tr>\n    <tr>\n      <th>4</th>\n      <td>1</td>\n      <td>AL-FL</td>\n      <td>1</td>\n      <td>12</td>\n      <td>1</td>\n      <td>9</td>\n      <td>206.6</td>\n      <td>91.2</td>\n    </tr>\n  </tbody>\n</table>\n</div>"
     },
     "execution_count": 15,
     "metadata": {},
     "output_type": "execute_result"
    }
   ],
   "source": [
    "data.head()"
   ]
  },
  {
   "cell_type": "code",
   "execution_count": 16,
   "id": "5b996432",
   "metadata": {
    "pycharm": {
     "name": "#%%\n"
    }
   },
   "outputs": [
    {
     "name": "stdout",
     "output_type": "stream",
     "text": [
      "<class 'pandas.core.frame.DataFrame'>\n",
      "RangeIndex: 14948 entries, 0 to 14947\n",
      "Data columns (total 8 columns):\n",
      " #   Column    Non-Null Count  Dtype  \n",
      "---  ------    --------------  -----  \n",
      " 0   BORDINDX  14948 non-null  int64  \n",
      " 1   ST1ST2    14948 non-null  object \n",
      " 2   ST1       14948 non-null  int64  \n",
      " 3   ST2       14948 non-null  int64  \n",
      " 4   ST        14948 non-null  int64  \n",
      " 5   COUNTY    14948 non-null  int64  \n",
      " 6   MINDIST   14948 non-null  float64\n",
      " 7   MILEMARK  14948 non-null  float64\n",
      "dtypes: float64(2), int64(5), object(1)\n",
      "memory usage: 934.4+ KB\n"
     ]
    }
   ],
   "source": [
    "data.info()"
   ]
  },
  {
   "cell_type": "code",
   "execution_count": 17,
   "id": "18f76e2a",
   "metadata": {
    "pycharm": {
     "name": "#%%\n"
    }
   },
   "outputs": [],
   "source": [
    "# create the fips for the state and the county\n",
    "data['county_fips'] = data['ST'].astype(str).str.rjust(2, '0') + data['COUNTY'].astype(str).str.zfill(3)"
   ]
  },
  {
   "cell_type": "code",
   "execution_count": 18,
   "id": "5fa23677",
   "metadata": {
    "pycharm": {
     "name": "#%%\n"
    }
   },
   "outputs": [
    {
     "data": {
      "text/plain": "    BORDINDX  ST1ST2  ST1  ST2  ST  COUNTY  MINDIST  MILEMARK county_fips\n0          1  AL-FL     1   12   1       1    103.4      89.8       01001\n1          1  AL-FL     1   12   1       3     16.6     167.4       01003\n2          1  AL-FL     1   12   1       5     58.1      18.4       01005\n3          1  AL-FL     1   12   1       7    138.7     125.8       01007\n4          1  AL-FL     1   12   1       9    206.6      91.2       01009\n5          1  AL-FL     1   12   1      11     76.3      41.4       01011\n6          1  AL-FL     1   12   1      13     53.0      98.0       01013\n7          1  AL-FL     1   12   1      15    187.7      48.4       01015\n8          1  AL-FL     1   12   1      17    128.6      15.5       01017\n9          1  AL-FL     1   12   1      19    218.7      36.6       01019\n10         1  AL-FL     1   12   1      21    128.2      99.3       01021\n11         1  AL-FL     1   12   1      23     83.6     153.6       01023\n12         1  AL-FL     1   12   1      25     49.4     153.6       01025\n13         1  AL-FL     1   12   1      27    156.3      47.8       01027\n14         1  AL-FL     1   12   1      29    181.2      30.0       01029\n15         1  AL-FL     1   12   1      31     24.8      55.1       01031\n16         1  AL-FL     1   12   1      33    257.4     153.6       01033\n17         1  AL-FL     1   12   1      35     29.4     116.0       01035\n18         1  AL-FL     1   12   1      37    136.5      67.3       01037\n19         1  AL-FL     1   12   1      39     18.6      83.4       01039",
      "text/html": "<div>\n<style scoped>\n    .dataframe tbody tr th:only-of-type {\n        vertical-align: middle;\n    }\n\n    .dataframe tbody tr th {\n        vertical-align: top;\n    }\n\n    .dataframe thead th {\n        text-align: right;\n    }\n</style>\n<table border=\"1\" class=\"dataframe\">\n  <thead>\n    <tr style=\"text-align: right;\">\n      <th></th>\n      <th>BORDINDX</th>\n      <th>ST1ST2</th>\n      <th>ST1</th>\n      <th>ST2</th>\n      <th>ST</th>\n      <th>COUNTY</th>\n      <th>MINDIST</th>\n      <th>MILEMARK</th>\n      <th>county_fips</th>\n    </tr>\n  </thead>\n  <tbody>\n    <tr>\n      <th>0</th>\n      <td>1</td>\n      <td>AL-FL</td>\n      <td>1</td>\n      <td>12</td>\n      <td>1</td>\n      <td>1</td>\n      <td>103.4</td>\n      <td>89.8</td>\n      <td>01001</td>\n    </tr>\n    <tr>\n      <th>1</th>\n      <td>1</td>\n      <td>AL-FL</td>\n      <td>1</td>\n      <td>12</td>\n      <td>1</td>\n      <td>3</td>\n      <td>16.6</td>\n      <td>167.4</td>\n      <td>01003</td>\n    </tr>\n    <tr>\n      <th>2</th>\n      <td>1</td>\n      <td>AL-FL</td>\n      <td>1</td>\n      <td>12</td>\n      <td>1</td>\n      <td>5</td>\n      <td>58.1</td>\n      <td>18.4</td>\n      <td>01005</td>\n    </tr>\n    <tr>\n      <th>3</th>\n      <td>1</td>\n      <td>AL-FL</td>\n      <td>1</td>\n      <td>12</td>\n      <td>1</td>\n      <td>7</td>\n      <td>138.7</td>\n      <td>125.8</td>\n      <td>01007</td>\n    </tr>\n    <tr>\n      <th>4</th>\n      <td>1</td>\n      <td>AL-FL</td>\n      <td>1</td>\n      <td>12</td>\n      <td>1</td>\n      <td>9</td>\n      <td>206.6</td>\n      <td>91.2</td>\n      <td>01009</td>\n    </tr>\n    <tr>\n      <th>5</th>\n      <td>1</td>\n      <td>AL-FL</td>\n      <td>1</td>\n      <td>12</td>\n      <td>1</td>\n      <td>11</td>\n      <td>76.3</td>\n      <td>41.4</td>\n      <td>01011</td>\n    </tr>\n    <tr>\n      <th>6</th>\n      <td>1</td>\n      <td>AL-FL</td>\n      <td>1</td>\n      <td>12</td>\n      <td>1</td>\n      <td>13</td>\n      <td>53.0</td>\n      <td>98.0</td>\n      <td>01013</td>\n    </tr>\n    <tr>\n      <th>7</th>\n      <td>1</td>\n      <td>AL-FL</td>\n      <td>1</td>\n      <td>12</td>\n      <td>1</td>\n      <td>15</td>\n      <td>187.7</td>\n      <td>48.4</td>\n      <td>01015</td>\n    </tr>\n    <tr>\n      <th>8</th>\n      <td>1</td>\n      <td>AL-FL</td>\n      <td>1</td>\n      <td>12</td>\n      <td>1</td>\n      <td>17</td>\n      <td>128.6</td>\n      <td>15.5</td>\n      <td>01017</td>\n    </tr>\n    <tr>\n      <th>9</th>\n      <td>1</td>\n      <td>AL-FL</td>\n      <td>1</td>\n      <td>12</td>\n      <td>1</td>\n      <td>19</td>\n      <td>218.7</td>\n      <td>36.6</td>\n      <td>01019</td>\n    </tr>\n    <tr>\n      <th>10</th>\n      <td>1</td>\n      <td>AL-FL</td>\n      <td>1</td>\n      <td>12</td>\n      <td>1</td>\n      <td>21</td>\n      <td>128.2</td>\n      <td>99.3</td>\n      <td>01021</td>\n    </tr>\n    <tr>\n      <th>11</th>\n      <td>1</td>\n      <td>AL-FL</td>\n      <td>1</td>\n      <td>12</td>\n      <td>1</td>\n      <td>23</td>\n      <td>83.6</td>\n      <td>153.6</td>\n      <td>01023</td>\n    </tr>\n    <tr>\n      <th>12</th>\n      <td>1</td>\n      <td>AL-FL</td>\n      <td>1</td>\n      <td>12</td>\n      <td>1</td>\n      <td>25</td>\n      <td>49.4</td>\n      <td>153.6</td>\n      <td>01025</td>\n    </tr>\n    <tr>\n      <th>13</th>\n      <td>1</td>\n      <td>AL-FL</td>\n      <td>1</td>\n      <td>12</td>\n      <td>1</td>\n      <td>27</td>\n      <td>156.3</td>\n      <td>47.8</td>\n      <td>01027</td>\n    </tr>\n    <tr>\n      <th>14</th>\n      <td>1</td>\n      <td>AL-FL</td>\n      <td>1</td>\n      <td>12</td>\n      <td>1</td>\n      <td>29</td>\n      <td>181.2</td>\n      <td>30.0</td>\n      <td>01029</td>\n    </tr>\n    <tr>\n      <th>15</th>\n      <td>1</td>\n      <td>AL-FL</td>\n      <td>1</td>\n      <td>12</td>\n      <td>1</td>\n      <td>31</td>\n      <td>24.8</td>\n      <td>55.1</td>\n      <td>01031</td>\n    </tr>\n    <tr>\n      <th>16</th>\n      <td>1</td>\n      <td>AL-FL</td>\n      <td>1</td>\n      <td>12</td>\n      <td>1</td>\n      <td>33</td>\n      <td>257.4</td>\n      <td>153.6</td>\n      <td>01033</td>\n    </tr>\n    <tr>\n      <th>17</th>\n      <td>1</td>\n      <td>AL-FL</td>\n      <td>1</td>\n      <td>12</td>\n      <td>1</td>\n      <td>35</td>\n      <td>29.4</td>\n      <td>116.0</td>\n      <td>01035</td>\n    </tr>\n    <tr>\n      <th>18</th>\n      <td>1</td>\n      <td>AL-FL</td>\n      <td>1</td>\n      <td>12</td>\n      <td>1</td>\n      <td>37</td>\n      <td>136.5</td>\n      <td>67.3</td>\n      <td>01037</td>\n    </tr>\n    <tr>\n      <th>19</th>\n      <td>1</td>\n      <td>AL-FL</td>\n      <td>1</td>\n      <td>12</td>\n      <td>1</td>\n      <td>39</td>\n      <td>18.6</td>\n      <td>83.4</td>\n      <td>01039</td>\n    </tr>\n  </tbody>\n</table>\n</div>"
     },
     "execution_count": 18,
     "metadata": {},
     "output_type": "execute_result"
    }
   ],
   "source": [
    "data.head(20)"
   ]
  },
  {
   "cell_type": "code",
   "execution_count": 32,
   "outputs": [],
   "source": [
    "al_fl = data.loc[(data['ST'].isin([1,12])) & (data['ST2'] == 12),]"
   ],
   "metadata": {
    "collapsed": false,
    "pycharm": {
     "name": "#%%\n"
    }
   }
  },
  {
   "cell_type": "code",
   "execution_count": 33,
   "outputs": [
    {
     "data": {
      "text/plain": "     BORDINDX  ST1ST2  ST1  ST2  ST  COUNTY  MINDIST  MILEMARK county_fips\n0           1  AL-FL     1   12   1       1    103.4      89.8       01001\n1           1  AL-FL     1   12   1       3     16.6     167.4       01003\n2           1  AL-FL     1   12   1       5     58.1      18.4       01005\n3           1  AL-FL     1   12   1       7    138.7     125.8       01007\n4           1  AL-FL     1   12   1       9    206.6      91.2       01009\n..        ...     ...  ...  ...  ..     ...      ...       ...         ...\n129         1  AL-FL     1   12  12     125    172.7       0.0       12125\n130         1  AL-FL     1   12  12     127    266.5       0.0       12127\n131         1  AL-FL     1   12  12     129     69.9       0.0       12129\n132         1  AL-FL     1   12  12     131     20.1      67.2       12131\n133         1  AL-FL     1   12  12     133     20.3      36.9       12133\n\n[134 rows x 9 columns]",
      "text/html": "<div>\n<style scoped>\n    .dataframe tbody tr th:only-of-type {\n        vertical-align: middle;\n    }\n\n    .dataframe tbody tr th {\n        vertical-align: top;\n    }\n\n    .dataframe thead th {\n        text-align: right;\n    }\n</style>\n<table border=\"1\" class=\"dataframe\">\n  <thead>\n    <tr style=\"text-align: right;\">\n      <th></th>\n      <th>BORDINDX</th>\n      <th>ST1ST2</th>\n      <th>ST1</th>\n      <th>ST2</th>\n      <th>ST</th>\n      <th>COUNTY</th>\n      <th>MINDIST</th>\n      <th>MILEMARK</th>\n      <th>county_fips</th>\n    </tr>\n  </thead>\n  <tbody>\n    <tr>\n      <th>0</th>\n      <td>1</td>\n      <td>AL-FL</td>\n      <td>1</td>\n      <td>12</td>\n      <td>1</td>\n      <td>1</td>\n      <td>103.4</td>\n      <td>89.8</td>\n      <td>01001</td>\n    </tr>\n    <tr>\n      <th>1</th>\n      <td>1</td>\n      <td>AL-FL</td>\n      <td>1</td>\n      <td>12</td>\n      <td>1</td>\n      <td>3</td>\n      <td>16.6</td>\n      <td>167.4</td>\n      <td>01003</td>\n    </tr>\n    <tr>\n      <th>2</th>\n      <td>1</td>\n      <td>AL-FL</td>\n      <td>1</td>\n      <td>12</td>\n      <td>1</td>\n      <td>5</td>\n      <td>58.1</td>\n      <td>18.4</td>\n      <td>01005</td>\n    </tr>\n    <tr>\n      <th>3</th>\n      <td>1</td>\n      <td>AL-FL</td>\n      <td>1</td>\n      <td>12</td>\n      <td>1</td>\n      <td>7</td>\n      <td>138.7</td>\n      <td>125.8</td>\n      <td>01007</td>\n    </tr>\n    <tr>\n      <th>4</th>\n      <td>1</td>\n      <td>AL-FL</td>\n      <td>1</td>\n      <td>12</td>\n      <td>1</td>\n      <td>9</td>\n      <td>206.6</td>\n      <td>91.2</td>\n      <td>01009</td>\n    </tr>\n    <tr>\n      <th>...</th>\n      <td>...</td>\n      <td>...</td>\n      <td>...</td>\n      <td>...</td>\n      <td>...</td>\n      <td>...</td>\n      <td>...</td>\n      <td>...</td>\n      <td>...</td>\n    </tr>\n    <tr>\n      <th>129</th>\n      <td>1</td>\n      <td>AL-FL</td>\n      <td>1</td>\n      <td>12</td>\n      <td>12</td>\n      <td>125</td>\n      <td>172.7</td>\n      <td>0.0</td>\n      <td>12125</td>\n    </tr>\n    <tr>\n      <th>130</th>\n      <td>1</td>\n      <td>AL-FL</td>\n      <td>1</td>\n      <td>12</td>\n      <td>12</td>\n      <td>127</td>\n      <td>266.5</td>\n      <td>0.0</td>\n      <td>12127</td>\n    </tr>\n    <tr>\n      <th>131</th>\n      <td>1</td>\n      <td>AL-FL</td>\n      <td>1</td>\n      <td>12</td>\n      <td>12</td>\n      <td>129</td>\n      <td>69.9</td>\n      <td>0.0</td>\n      <td>12129</td>\n    </tr>\n    <tr>\n      <th>132</th>\n      <td>1</td>\n      <td>AL-FL</td>\n      <td>1</td>\n      <td>12</td>\n      <td>12</td>\n      <td>131</td>\n      <td>20.1</td>\n      <td>67.2</td>\n      <td>12131</td>\n    </tr>\n    <tr>\n      <th>133</th>\n      <td>1</td>\n      <td>AL-FL</td>\n      <td>1</td>\n      <td>12</td>\n      <td>12</td>\n      <td>133</td>\n      <td>20.3</td>\n      <td>36.9</td>\n      <td>12133</td>\n    </tr>\n  </tbody>\n</table>\n<p>134 rows × 9 columns</p>\n</div>"
     },
     "execution_count": 33,
     "metadata": {},
     "output_type": "execute_result"
    }
   ],
   "source": [
    "al_fl"
   ],
   "metadata": {
    "collapsed": false,
    "pycharm": {
     "name": "#%%\n"
    }
   }
  },
  {
   "cell_type": "code",
   "execution_count": 24,
   "outputs": [
    {
     "name": "stdout",
     "output_type": "stream",
     "text": [
      "[1]\n"
     ]
    }
   ],
   "source": [
    "print(al_fl['BORDINDX'].unique())"
   ],
   "metadata": {
    "collapsed": false,
    "pycharm": {
     "name": "#%%\n"
    }
   }
  },
  {
   "cell_type": "code",
   "execution_count": null,
   "outputs": [],
   "source": [],
   "metadata": {
    "collapsed": false,
    "pycharm": {
     "name": "#%%\n"
    }
   }
  }
 ],
 "metadata": {
  "kernelspec": {
   "display_name": "Python 3 (ipykernel)",
   "language": "python",
   "name": "python3"
  },
  "language_info": {
   "codemirror_mode": {
    "name": "ipython",
    "version": 3
   },
   "file_extension": ".py",
   "mimetype": "text/x-python",
   "name": "python",
   "nbconvert_exporter": "python",
   "pygments_lexer": "ipython3",
   "version": "3.9.7"
  }
 },
 "nbformat": 4,
 "nbformat_minor": 5
}