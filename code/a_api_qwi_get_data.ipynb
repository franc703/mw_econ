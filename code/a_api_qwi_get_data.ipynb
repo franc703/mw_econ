{
 "cells": [
  {
   "cell_type": "code",
   "execution_count": 1,
   "id": "25d42df3",
   "metadata": {},
   "outputs": [],
   "source": [
    "import pandas as pd\n",
    "import numpy as np\n",
    "import requests\n",
    "import os\n",
    "from dotenv import load_dotenv\n",
    "from progressbar import ProgressBar"
   ]
  },
  {
   "cell_type": "code",
   "execution_count": 2,
   "id": "bba2a20e",
   "metadata": {},
   "outputs": [],
   "source": [
    "load_dotenv()\n",
    "# environment variables\n",
    "\n",
    "api_key = os.getenv('qwi_key')\n",
    "# get api_key without revealing it to the public\n",
    "\n",
    "pbar = ProgressBar()\n",
    "# create progress bar for the loop"
   ]
  },
  {
   "cell_type": "code",
   "execution_count": 3,
   "id": "111ba230",
   "metadata": {},
   "outputs": [],
   "source": [
    "# Construct function to make api call for qwi\n",
    "def get_qwi(state = '24', key = api_key, the_vars = ['Emp', 'TurnOvrS', 'EarnBeg']):\n",
    "    HOST = 'http://api.census.gov/data/timeseries/qwi/sa?'\n",
    "    get_vars = the_vars\n",
    "    predicates = {}\n",
    "    predicates['get'] = \",\".join(get_vars)\n",
    "    predicates['for'] = 'county:*'\n",
    "    predicates['in'] = 'state:' + state\n",
    "    predicates['sex'] = '0'\n",
    "    predicates['agegrp'] = 'A00'\n",
    "    predicates['industry'] = '6244'\n",
    "    predicates['ownercode'] = 'A00'\n",
    "    predicates['time'] = 'from 2001-Q1 to 2007-Q4'\n",
    "    predicates['seasonadj'] = 'U'\n",
    "    predicates['key'] = f'{key}'\n",
    "    r = requests.get(HOST, params = predicates)\n",
    "    df = pd.DataFrame(data = r.json()[1:])\n",
    "    return df # columns = r.json()[0],"
   ]
  },
  {
   "cell_type": "code",
   "execution_count": 4,
   "id": "19526795",
   "metadata": {},
   "outputs": [],
   "source": [
    "candidates = [str(i).zfill(2) for i in range(1,57)] # create range of state fips code\n",
    "not_states = ['03', '07', '11', '14', '25', '43', '52'] # massachussets is not in qwi --> 25\n",
    "filter_set = set(not_states)\n",
    "states = [x for x in candidates if x not in filter_set] # state fips set\n",
    "col_names = ['emp', 'turn_overs', 'earn_beg', 'sex', 'age_group', 'industry', 'owner_code','quarter', 'season_adj', 'state', 'county']"
   ]
  },
  {
   "cell_type": "code",
   "execution_count": 5,
   "id": "d72cfabc",
   "metadata": {},
   "outputs": [],
   "source": [
    "def create_qwi_df(states = states, col_names = col_names):\n",
    "    appended_data = []\n",
    "    for st in pbar(states):\n",
    "        df = get_qwi(state = st)\n",
    "        appended_data.append(df)\n",
    "    data = pd.concat(appended_data)\n",
    "    data.columns = col_names      \n",
    "    return data"
   ]
  },
  {
   "cell_type": "code",
   "execution_count": 6,
   "id": "672b8438",
   "metadata": {},
   "outputs": [
    {
     "name": "stderr",
     "output_type": "stream",
     "text": [
      "100% |########################################################################|\n"
     ]
    }
   ],
   "source": [
    "data = create_qwi_df()"
   ]
  },
  {
   "cell_type": "code",
   "execution_count": 7,
   "id": "77d5092b",
   "metadata": {},
   "outputs": [
    {
     "name": "stdout",
     "output_type": "stream",
     "text": [
      "['01' '02' '04' '05' '06' '08' '09' '10' '12' '13' '15' '16' '17' '18'\n",
      " '19' '20' '21' '22' '23' '24' '26' '27' '28' '29' '30' '31' '32' '33'\n",
      " '34' '35' '36' '37' '38' '39' '40' '41' '42' '44' '45' '46' '47' '48'\n",
      " '49' '50' '51' '53' '54' '55' '56']\n"
     ]
    }
   ],
   "source": [
    "print(data['state'].unique())"
   ]
  },
  {
   "cell_type": "code",
   "execution_count": 8,
   "id": "a0c3b8c0",
   "metadata": {},
   "outputs": [
    {
     "name": "stdout",
     "output_type": "stream",
     "text": [
      "49\n"
     ]
    }
   ],
   "source": [
    "print(len(data['state'].unique()))"
   ]
  },
  {
   "cell_type": "code",
   "execution_count": 9,
   "id": "bf38952f",
   "metadata": {},
   "outputs": [
    {
     "data": {
      "text/html": [
       "<div>\n",
       "<style scoped>\n",
       "    .dataframe tbody tr th:only-of-type {\n",
       "        vertical-align: middle;\n",
       "    }\n",
       "\n",
       "    .dataframe tbody tr th {\n",
       "        vertical-align: top;\n",
       "    }\n",
       "\n",
       "    .dataframe thead th {\n",
       "        text-align: right;\n",
       "    }\n",
       "</style>\n",
       "<table border=\"1\" class=\"dataframe\">\n",
       "  <thead>\n",
       "    <tr style=\"text-align: right;\">\n",
       "      <th></th>\n",
       "      <th>emp</th>\n",
       "      <th>turn_overs</th>\n",
       "      <th>earn_beg</th>\n",
       "      <th>sex</th>\n",
       "      <th>age_group</th>\n",
       "      <th>industry</th>\n",
       "      <th>owner_code</th>\n",
       "      <th>quarter</th>\n",
       "      <th>season_adj</th>\n",
       "      <th>state</th>\n",
       "      <th>county</th>\n",
       "    </tr>\n",
       "  </thead>\n",
       "  <tbody>\n",
       "    <tr>\n",
       "      <th>0</th>\n",
       "      <td>None</td>\n",
       "      <td>None</td>\n",
       "      <td>None</td>\n",
       "      <td>0</td>\n",
       "      <td>A00</td>\n",
       "      <td>6244</td>\n",
       "      <td>A00</td>\n",
       "      <td>2001-Q1</td>\n",
       "      <td>U</td>\n",
       "      <td>01</td>\n",
       "      <td>001</td>\n",
       "    </tr>\n",
       "    <tr>\n",
       "      <th>1</th>\n",
       "      <td>103</td>\n",
       "      <td>None</td>\n",
       "      <td>1145</td>\n",
       "      <td>0</td>\n",
       "      <td>A00</td>\n",
       "      <td>6244</td>\n",
       "      <td>A00</td>\n",
       "      <td>2001-Q2</td>\n",
       "      <td>U</td>\n",
       "      <td>01</td>\n",
       "      <td>001</td>\n",
       "    </tr>\n",
       "    <tr>\n",
       "      <th>2</th>\n",
       "      <td>114</td>\n",
       "      <td>0.128</td>\n",
       "      <td>997</td>\n",
       "      <td>0</td>\n",
       "      <td>A00</td>\n",
       "      <td>6244</td>\n",
       "      <td>A00</td>\n",
       "      <td>2001-Q3</td>\n",
       "      <td>U</td>\n",
       "      <td>01</td>\n",
       "      <td>001</td>\n",
       "    </tr>\n",
       "    <tr>\n",
       "      <th>3</th>\n",
       "      <td>107</td>\n",
       "      <td>0.133</td>\n",
       "      <td>1159</td>\n",
       "      <td>0</td>\n",
       "      <td>A00</td>\n",
       "      <td>6244</td>\n",
       "      <td>A00</td>\n",
       "      <td>2001-Q4</td>\n",
       "      <td>U</td>\n",
       "      <td>01</td>\n",
       "      <td>001</td>\n",
       "    </tr>\n",
       "    <tr>\n",
       "      <th>4</th>\n",
       "      <td>113</td>\n",
       "      <td>0.133</td>\n",
       "      <td>1129</td>\n",
       "      <td>0</td>\n",
       "      <td>A00</td>\n",
       "      <td>6244</td>\n",
       "      <td>A00</td>\n",
       "      <td>2002-Q1</td>\n",
       "      <td>U</td>\n",
       "      <td>01</td>\n",
       "      <td>001</td>\n",
       "    </tr>\n",
       "  </tbody>\n",
       "</table>\n",
       "</div>"
      ],
      "text/plain": [
       "    emp turn_overs earn_beg sex age_group industry owner_code  quarter  \\\n",
       "0  None       None     None   0       A00     6244        A00  2001-Q1   \n",
       "1   103       None     1145   0       A00     6244        A00  2001-Q2   \n",
       "2   114      0.128      997   0       A00     6244        A00  2001-Q3   \n",
       "3   107      0.133     1159   0       A00     6244        A00  2001-Q4   \n",
       "4   113      0.133     1129   0       A00     6244        A00  2002-Q1   \n",
       "\n",
       "  season_adj state county  \n",
       "0          U    01    001  \n",
       "1          U    01    001  \n",
       "2          U    01    001  \n",
       "3          U    01    001  \n",
       "4          U    01    001  "
      ]
     },
     "execution_count": 9,
     "metadata": {},
     "output_type": "execute_result"
    }
   ],
   "source": [
    "data.head()"
   ]
  },
  {
   "cell_type": "code",
   "execution_count": 10,
   "id": "c0abff6e",
   "metadata": {},
   "outputs": [],
   "source": [
    "# keep columns\n",
    "keep_list = ['state', 'county', 'quarter', 'emp', 'turn_overs', 'earn_beg']\n",
    "data = data[keep_list]"
   ]
  },
  {
   "cell_type": "code",
   "execution_count": 11,
   "id": "6064fd1a",
   "metadata": {},
   "outputs": [
    {
     "data": {
      "text/html": [
       "<div>\n",
       "<style scoped>\n",
       "    .dataframe tbody tr th:only-of-type {\n",
       "        vertical-align: middle;\n",
       "    }\n",
       "\n",
       "    .dataframe tbody tr th {\n",
       "        vertical-align: top;\n",
       "    }\n",
       "\n",
       "    .dataframe thead th {\n",
       "        text-align: right;\n",
       "    }\n",
       "</style>\n",
       "<table border=\"1\" class=\"dataframe\">\n",
       "  <thead>\n",
       "    <tr style=\"text-align: right;\">\n",
       "      <th></th>\n",
       "      <th>state</th>\n",
       "      <th>county</th>\n",
       "      <th>quarter</th>\n",
       "      <th>emp</th>\n",
       "      <th>turn_overs</th>\n",
       "      <th>earn_beg</th>\n",
       "    </tr>\n",
       "  </thead>\n",
       "  <tbody>\n",
       "    <tr>\n",
       "      <th>0</th>\n",
       "      <td>01</td>\n",
       "      <td>001</td>\n",
       "      <td>2001-Q1</td>\n",
       "      <td>None</td>\n",
       "      <td>None</td>\n",
       "      <td>None</td>\n",
       "    </tr>\n",
       "    <tr>\n",
       "      <th>1</th>\n",
       "      <td>01</td>\n",
       "      <td>001</td>\n",
       "      <td>2001-Q2</td>\n",
       "      <td>103</td>\n",
       "      <td>None</td>\n",
       "      <td>1145</td>\n",
       "    </tr>\n",
       "    <tr>\n",
       "      <th>2</th>\n",
       "      <td>01</td>\n",
       "      <td>001</td>\n",
       "      <td>2001-Q3</td>\n",
       "      <td>114</td>\n",
       "      <td>0.128</td>\n",
       "      <td>997</td>\n",
       "    </tr>\n",
       "    <tr>\n",
       "      <th>3</th>\n",
       "      <td>01</td>\n",
       "      <td>001</td>\n",
       "      <td>2001-Q4</td>\n",
       "      <td>107</td>\n",
       "      <td>0.133</td>\n",
       "      <td>1159</td>\n",
       "    </tr>\n",
       "    <tr>\n",
       "      <th>4</th>\n",
       "      <td>01</td>\n",
       "      <td>001</td>\n",
       "      <td>2002-Q1</td>\n",
       "      <td>113</td>\n",
       "      <td>0.133</td>\n",
       "      <td>1129</td>\n",
       "    </tr>\n",
       "  </tbody>\n",
       "</table>\n",
       "</div>"
      ],
      "text/plain": [
       "  state county  quarter   emp turn_overs earn_beg\n",
       "0    01    001  2001-Q1  None       None     None\n",
       "1    01    001  2001-Q2   103       None     1145\n",
       "2    01    001  2001-Q3   114      0.128      997\n",
       "3    01    001  2001-Q4   107      0.133     1159\n",
       "4    01    001  2002-Q1   113      0.133     1129"
      ]
     },
     "execution_count": 11,
     "metadata": {},
     "output_type": "execute_result"
    }
   ],
   "source": [
    "data.head()"
   ]
  },
  {
   "cell_type": "code",
   "execution_count": 12,
   "id": "af8f4ac5",
   "metadata": {},
   "outputs": [
    {
     "name": "stdout",
     "output_type": "stream",
     "text": [
      "<class 'pandas.core.frame.DataFrame'>\n",
      "Int64Index: 77808 entries, 0 to 643\n",
      "Data columns (total 6 columns):\n",
      " #   Column      Non-Null Count  Dtype \n",
      "---  ------      --------------  ----- \n",
      " 0   state       77808 non-null  object\n",
      " 1   county      77808 non-null  object\n",
      " 2   quarter     77808 non-null  object\n",
      " 3   emp         58717 non-null  object\n",
      " 4   turn_overs  44090 non-null  object\n",
      " 5   earn_beg    76824 non-null  object\n",
      "dtypes: object(6)\n",
      "memory usage: 4.2+ MB\n"
     ]
    }
   ],
   "source": [
    "data.info()"
   ]
  },
  {
   "cell_type": "code",
   "execution_count": 13,
   "id": "70a11395",
   "metadata": {},
   "outputs": [],
   "source": [
    "data = data.fillna(value=np.nan)"
   ]
  },
  {
   "cell_type": "code",
   "execution_count": 14,
   "id": "3d7236f5",
   "metadata": {},
   "outputs": [
    {
     "data": {
      "text/html": [
       "<div>\n",
       "<style scoped>\n",
       "    .dataframe tbody tr th:only-of-type {\n",
       "        vertical-align: middle;\n",
       "    }\n",
       "\n",
       "    .dataframe tbody tr th {\n",
       "        vertical-align: top;\n",
       "    }\n",
       "\n",
       "    .dataframe thead th {\n",
       "        text-align: right;\n",
       "    }\n",
       "</style>\n",
       "<table border=\"1\" class=\"dataframe\">\n",
       "  <thead>\n",
       "    <tr style=\"text-align: right;\">\n",
       "      <th></th>\n",
       "      <th>state</th>\n",
       "      <th>county</th>\n",
       "      <th>quarter</th>\n",
       "      <th>emp</th>\n",
       "      <th>turn_overs</th>\n",
       "      <th>earn_beg</th>\n",
       "    </tr>\n",
       "  </thead>\n",
       "  <tbody>\n",
       "    <tr>\n",
       "      <th>0</th>\n",
       "      <td>01</td>\n",
       "      <td>001</td>\n",
       "      <td>2001-Q1</td>\n",
       "      <td>NaN</td>\n",
       "      <td>NaN</td>\n",
       "      <td>NaN</td>\n",
       "    </tr>\n",
       "    <tr>\n",
       "      <th>1</th>\n",
       "      <td>01</td>\n",
       "      <td>001</td>\n",
       "      <td>2001-Q2</td>\n",
       "      <td>103</td>\n",
       "      <td>NaN</td>\n",
       "      <td>1145</td>\n",
       "    </tr>\n",
       "    <tr>\n",
       "      <th>2</th>\n",
       "      <td>01</td>\n",
       "      <td>001</td>\n",
       "      <td>2001-Q3</td>\n",
       "      <td>114</td>\n",
       "      <td>0.128</td>\n",
       "      <td>997</td>\n",
       "    </tr>\n",
       "    <tr>\n",
       "      <th>3</th>\n",
       "      <td>01</td>\n",
       "      <td>001</td>\n",
       "      <td>2001-Q4</td>\n",
       "      <td>107</td>\n",
       "      <td>0.133</td>\n",
       "      <td>1159</td>\n",
       "    </tr>\n",
       "    <tr>\n",
       "      <th>4</th>\n",
       "      <td>01</td>\n",
       "      <td>001</td>\n",
       "      <td>2002-Q1</td>\n",
       "      <td>113</td>\n",
       "      <td>0.133</td>\n",
       "      <td>1129</td>\n",
       "    </tr>\n",
       "  </tbody>\n",
       "</table>\n",
       "</div>"
      ],
      "text/plain": [
       "  state county  quarter  emp turn_overs earn_beg\n",
       "0    01    001  2001-Q1  NaN        NaN      NaN\n",
       "1    01    001  2001-Q2  103        NaN     1145\n",
       "2    01    001  2001-Q3  114      0.128      997\n",
       "3    01    001  2001-Q4  107      0.133     1159\n",
       "4    01    001  2002-Q1  113      0.133     1129"
      ]
     },
     "execution_count": 14,
     "metadata": {},
     "output_type": "execute_result"
    }
   ],
   "source": [
    "data.head()"
   ]
  },
  {
   "cell_type": "code",
   "execution_count": 15,
   "id": "8927a434",
   "metadata": {},
   "outputs": [],
   "source": [
    "data.to_csv('../data/working/qwi_all_states_county.csv')"
   ]
  }
 ],
 "metadata": {
  "kernelspec": {
   "display_name": "Python 3 (ipykernel)",
   "language": "python",
   "name": "python3"
  },
  "language_info": {
   "codemirror_mode": {
    "name": "ipython",
    "version": 3
   },
   "file_extension": ".py",
   "mimetype": "text/x-python",
   "name": "python",
   "nbconvert_exporter": "python",
   "pygments_lexer": "ipython3",
   "version": "3.9.7"
  }
 },
 "nbformat": 4,
 "nbformat_minor": 5
}
